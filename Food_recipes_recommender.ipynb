{
  "cells": [
    {
      "cell_type": "markdown",
      "metadata": {
        "id": "0qNhChtdLxQz"
      },
      "source": [
        "Next work:Connect extra data source / file for ChatGPT"
      ]
    },
    {
      "cell_type": "code",
      "execution_count": 17,
      "metadata": {
        "colab": {
          "base_uri": "https://localhost:8080/"
        },
        "id": "rh4FqFW3D5nS",
        "outputId": "131e325c-410b-40af-9318-c681e125c843"
      },
      "outputs": [
        {
          "name": "stdout",
          "output_type": "stream",
          "text": [
            "Requirement already satisfied: openai in /usr/local/lib/python3.10/dist-packages (1.24.0)\n",
            "Requirement already satisfied: anyio<5,>=3.5.0 in /usr/local/lib/python3.10/dist-packages (from openai) (3.7.1)\n",
            "Requirement already satisfied: distro<2,>=1.7.0 in /usr/lib/python3/dist-packages (from openai) (1.7.0)\n",
            "Requirement already satisfied: httpx<1,>=0.23.0 in /usr/local/lib/python3.10/dist-packages (from openai) (0.27.0)\n",
            "Requirement already satisfied: pydantic<3,>=1.9.0 in /usr/local/lib/python3.10/dist-packages (from openai) (2.7.0)\n",
            "Requirement already satisfied: sniffio in /usr/local/lib/python3.10/dist-packages (from openai) (1.3.1)\n",
            "Requirement already satisfied: tqdm>4 in /usr/local/lib/python3.10/dist-packages (from openai) (4.66.2)\n",
            "Requirement already satisfied: typing-extensions<5,>=4.7 in /usr/local/lib/python3.10/dist-packages (from openai) (4.11.0)\n",
            "Requirement already satisfied: idna>=2.8 in /usr/local/lib/python3.10/dist-packages (from anyio<5,>=3.5.0->openai) (3.7)\n",
            "Requirement already satisfied: exceptiongroup in /usr/local/lib/python3.10/dist-packages (from anyio<5,>=3.5.0->openai) (1.2.1)\n",
            "Requirement already satisfied: certifi in /usr/local/lib/python3.10/dist-packages (from httpx<1,>=0.23.0->openai) (2024.2.2)\n",
            "Requirement already satisfied: httpcore==1.* in /usr/local/lib/python3.10/dist-packages (from httpx<1,>=0.23.0->openai) (1.0.5)\n",
            "Requirement already satisfied: h11<0.15,>=0.13 in /usr/local/lib/python3.10/dist-packages (from httpcore==1.*->httpx<1,>=0.23.0->openai) (0.14.0)\n",
            "Requirement already satisfied: annotated-types>=0.4.0 in /usr/local/lib/python3.10/dist-packages (from pydantic<3,>=1.9.0->openai) (0.6.0)\n",
            "Requirement already satisfied: pydantic-core==2.18.1 in /usr/local/lib/python3.10/dist-packages (from pydantic<3,>=1.9.0->openai) (2.18.1)\n"
          ]
        }
      ],
      "source": [
        "pip install openai"
      ]
    },
    {
      "cell_type": "code",
      "execution_count": null,
      "metadata": {},
      "outputs": [],
      "source": [
        "from google.colab import userdata\n",
        "userdata.get('API_KEY')"
      ]
    },
    {
      "cell_type": "code",
      "execution_count": 19,
      "metadata": {
        "id": "2l1hT9a1L1lX"
      },
      "outputs": [],
      "source": [
        "from openai import OpenAI\n",
        "client = OpenAI(api_key = userdata.get('API_KEY'))"
      ]
    },
    {
      "cell_type": "markdown",
      "metadata": {
        "id": "l43WjU_uRrFa"
      },
      "source": [
        "Step1 : Create assistant"
      ]
    },
    {
      "cell_type": "code",
      "execution_count": 20,
      "metadata": {
        "id": "EKQ2GxbwLujg"
      },
      "outputs": [],
      "source": [
        "assistant = client.beta.assistants.create(\n",
        "    name=\"World Cuisine Recipes Recommender\",\n",
        "    instructions= \"You are a world food recipes recommender. When a user asks about a dish, provide details including the food name, time to prepare, steps,any tags and ingredients needed.\",\n",
        "    tools=[{\"type\": \"file_search\"}],\n",
        "    model=\"gpt-3.5-turbo\" ,\n",
        ")\n"
      ]
    },
    {
      "cell_type": "code",
      "execution_count": 21,
      "metadata": {
        "colab": {
          "base_uri": "https://localhost:8080/"
        },
        "id": "z75gkKBIRur6",
        "outputId": "78c6bf1d-22ff-49cf-f65f-8c0056332b80"
      },
      "outputs": [
        {
          "name": "stdout",
          "output_type": "stream",
          "text": [
            "completed\n",
            "FileCounts(cancelled=0, completed=2, failed=0, in_progress=0, total=2)\n"
          ]
        }
      ],
      "source": [
        "vector_store = client.beta.vector_stores.create(name=\"Food recipe recommender\")\n",
        "\n",
        "# Ready the files for upload to OpenAI\n",
        "file_paths = [\"101_Square_Meals.pdf\",\"recipes.json\"]\n",
        "file_streams = [open(path, \"rb\") for path in file_paths]\n",
        "\n",
        "file_batch = client.beta.vector_stores.file_batches.upload_and_poll(\n",
        "  vector_store_id=vector_store.id, files=file_streams\n",
        ")\n",
        "\n",
        "print(file_batch.status)\n",
        "print(file_batch.file_counts)"
      ]
    },
    {
      "cell_type": "code",
      "execution_count": 22,
      "metadata": {
        "id": "NtDtL1fWRupM"
      },
      "outputs": [],
      "source": [
        "assistant = client.beta.assistants.update(\n",
        "  assistant_id=assistant.id,\n",
        "  tool_resources={\"file_search\": {\"vector_store_ids\": [vector_store.id]}},\n",
        ")"
      ]
    },
    {
      "cell_type": "code",
      "execution_count": 23,
      "metadata": {
        "id": "LXsOoGrdDtUu"
      },
      "outputs": [],
      "source": [
        "def create_message_and_run(client, assistant, user_message, thread=None):\n",
        "    # Create a new message in the thread and start a new run\n",
        "    if not thread:\n",
        "        thread = client.beta.threads.create()\n",
        "    message = client.beta.threads.messages.create(\n",
        "        thread_id=thread.id,\n",
        "        role= \"user\",\n",
        "        content= user_message\n",
        "        )\n",
        "    run = client.beta.threads.runs.create(\n",
        "    thread_id=thread.id, assistant_id=assistant.id\n",
        "    )\n",
        "    return run, thread\n"
      ]
    },
    {
      "cell_type": "code",
      "execution_count": 24,
      "metadata": {
        "id": "AT6LixbbFBpU"
      },
      "outputs": [],
      "source": [
        "user_message = \"Now i need you some advices for food.\"\n",
        "run, thread = create_message_and_run(client,assistant,user_message)"
      ]
    },
    {
      "cell_type": "code",
      "execution_count": 25,
      "metadata": {
        "id": "0poHusCuDtUu"
      },
      "outputs": [],
      "source": [
        "def submit_tool_outputs(run,thread):\n",
        "    run = client.beta.threads.runs.submit_tool_outputs(\n",
        "    thread_id=thread.id,\n",
        "    run_id=run.id\n",
        "    )\n",
        "    return run"
      ]
    },
    {
      "cell_type": "code",
      "execution_count": 26,
      "metadata": {
        "colab": {
          "base_uri": "https://localhost:8080/"
        },
        "id": "rEKTSaWHDtUu",
        "outputId": "14c55bdd-fa54-4d95-c35b-7cc5275cc196"
      },
      "outputs": [
        {
          "name": "stdout",
          "output_type": "stream",
          "text": [
            "\n",
            "assistant: Of course! I can provide you with some food advice. Could you please specify if you are looking for cooking tips, recipe recommendations, dietary advice, or any particular food-related topic you would like to learn more about?\n",
            "Now I have chicken and mushroom, I want to cook some food with no more than 1 hour.\n",
            "\n",
            "assistant: Here are a couple of recipes that you can prepare with chicken and mushrooms in under 1 hour:\n",
            "\n",
            "1. **Chicken Curry**:\n",
            "   - **Ingredients**: Cooked chicken, button mushrooms, pepper, onion, peas, carrot, garlic, curry paste, vegetable oil, chicken stock.\n",
            "   - **Preparation Time**: 5 minutes\n",
            "   - **Cooking Time**: 15 minutes\n",
            "   - **Method**: Slice and cook vegetables and garlic, add mushrooms and pepper, stir in curry paste, cooked chicken, peas, and stock. Simmer for 10 minutes and serve with rice【6:0†source】.\n",
            "\n",
            "2. **Chicken in Tomato Sauce**:\n",
            "   - **Ingredients**: Onion, carrot, garlic, parsley, vegetable oil, chicken breast fillets, passata or tomato-based pasta sauce, chicken stock, peas, black pepper.\n",
            "   - **Preparation Time**: 10 minutes\n",
            "   - **Cooking Time**: 40 minutes\n",
            "   - **Method**: Cook vegetables with garlic, add chicken, passata, chicken stock, parsley, cook covered, add peas and seasoning. Serve with rice【6:0†source】.\n",
            "\n",
            "These recipes should be relatively quick to prepare and will result in delicious dishes using chicken and mushrooms.\n",
            "I also have some potatos Can you recommend some recipes?\n",
            "\n",
            "assistant: Here is a recipe for \"Butter-roasted supreme of chicken with wild mushroom & potato gratin\" by Gordon Ramsay that you can try with your chicken, mushrooms, and potatoes. This recipe involves making a delicious chicken dish with a side of mushroom and potato gratin. You can access the full recipe details [here](https://www.bbcgoodfood.com/recipes/887649/butterroasted-supreme-of-chicken-with-wild-mushroo)【10:1†source】.\n",
            "\n",
            "Another option is to prepare \"Chicken and vegetable casserole\" which can be served with boiled potatoes or rice. This recipe involves ingredients like chicken portions, carrots, onions, celery, mushrooms, peas, chicken stock, lemon juice, dried herbs, salt, and pepper. The preparation method includes baking the casserole dish with all the vegetables and chicken portions. The full method can be found in the document \"101_Square_Meals.pdf\"【10:0†source】.\n",
            "\n",
            "These recipes should provide you with some delicious options to enjoy your chicken, mushrooms, and potatoes.\n",
            "Do you have a recommend starter with this meal?\n",
            "\n",
            "assistant: I found a couple of starter recipes that you can consider serving with your chicken, mushroom, and potato meal:\n",
            "\n",
            "1. **Butter Bean Pâté with Melba Toast**:\n",
            "   - **Description**: This quick pâté can be ready in 15 minutes, making it a perfect last-minute starter.\n",
            "   - **Ingredients**: Olive oil, shallot, garlic, butter beans, soured cream, fresh parsley, white bread slices.\n",
            "   - **Method**: Cook the shallot and garlic, then mash the butter beans with soured cream, parsley, and seasonings. Chill until serving. Toast white bread slices and serve with the pâté【14:7†source】.\n",
            "\n",
            "2. **Mushroom & Olive Tatins**:\n",
            "   - **Description**: A versatile dish that can be served as a starter, main, picnic, or snack. Smart enough for entertaining yet easy for everyday.\n",
            "   - **Ingredients**: Portabellini mushrooms, olive oil, thyme, puff pastry, pine nuts, olives, vegetarian tapenade, extra-virgin olive oil, balsamic vinegar, rocket leaves.\n",
            "   - **Method**: Roast mushrooms with thyme, then arrange them in tins and top with pine nuts, olives, and tapenade on pastry circles. Bake until golden. Serve with a drizzle of extra-virgin olive oil, balsamic vinegar, and rocket leaves【14:8†source】.\n",
            "\n",
            "These starter recipes should complement your chicken, mushroom, and potato meal nicely.\n",
            "stop\n"
          ]
        }
      ],
      "source": [
        "while True:\n",
        "    # Retrieve the current run status\n",
        "    run = client.beta.threads.runs.retrieve(thread_id=thread.id, run_id=run.id)\n",
        "    if run.status == \"requires_action\":\n",
        "        run = submit_tool_outputs(run,thread)\n",
        "        continue\n",
        "\n",
        "    if run.status == \"completed\":\n",
        "        # Retrieve messages when the run is completed\n",
        "        messages = client.beta.threads.messages.list(thread_id=thread.id)\n",
        "        latest_message = messages.data[0]\n",
        "        text = latest_message.content[0].text.value\n",
        "        print(\"\\n\"+latest_message.role+\": \"+text)\n",
        "        # Prompt for user input to continue or stop the conversation\n",
        "        user_input = input()\n",
        "        if user_input.lower() == \"stop\":\n",
        "            break\n",
        "        # Create a new message and poll for a new run based on the user's response\n",
        "        run,thread = create_message_and_run(client,assistant=assistant,user_message=user_input,thread=thread)\n",
        "        continue\n"
      ]
    }
  ],
  "metadata": {
    "colab": {
      "provenance": []
    },
    "kernelspec": {
      "display_name": "Python 3",
      "name": "python3"
    },
    "language_info": {
      "codemirror_mode": {
        "name": "ipython",
        "version": 3
      },
      "file_extension": ".py",
      "mimetype": "text/x-python",
      "name": "python",
      "nbconvert_exporter": "python",
      "pygments_lexer": "ipython3",
      "version": "3.11.9"
    }
  },
  "nbformat": 4,
  "nbformat_minor": 0
}
